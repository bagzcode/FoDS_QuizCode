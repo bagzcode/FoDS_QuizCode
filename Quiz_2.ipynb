{
  "nbformat": 4,
  "nbformat_minor": 0,
  "metadata": {
    "colab": {
      "provenance": []
    },
    "kernelspec": {
      "name": "python3",
      "display_name": "Python 3"
    },
    "language_info": {
      "name": "python"
    }
  },
  "cells": [
    {
      "cell_type": "markdown",
      "source": [
        "# This is the Quiz 2 for FoDS Odd Semester 2022-2023\n",
        "### - Make sure you could run the code below\n",
        "### - Please dont forget to use StudentID as your name / filename / repository\n",
        "### - Try to work by yourself"
      ],
      "metadata": {
        "id": "U82DJGGbfs9Z"
      }
    },
    {
      "cell_type": "markdown",
      "source": [
        "# Machine Learning: Classification\n",
        "#### Classification is the common method that being used in Machine Learning to do prediction. In this Quiz, you are given a cleaned data of the telemarketing Bank, and need to perform a data science pipline to build for classification model to predict customers' response to its telemarketing bank campaign and establish a target customer profile for future marketing plans. \n",
        "\n",
        "#### The main objective of this project is to identify the most responsive customers before the marketing campaign so that the bank will be able to efficiently reach out to them, saving time and marketing resources. \n",
        "\n",
        "#### To achieve this objective, classification algorithms will be employed. By analyzing customer statistics, a classification model will be built to classify all clients into two groups: \"yes\" to term deposits and \"no\" to term deposits."
      ],
      "metadata": {
        "id": "oBXjhepXYxkw"
      }
    },
    {
      "cell_type": "code",
      "source": [
        "# Load any necessary libraries\n",
        "import pandas as pd\n",
        "import numpy as np\n",
        "from pandas import read_csv\n",
        "import warnings\n",
        "warnings.filterwarnings('ignore')"
      ],
      "metadata": {
        "id": "nhFTPGR_Zq--"
      },
      "execution_count": 6,
      "outputs": []
    },
    {
      "cell_type": "code",
      "source": [
        "#1 in this quiz you will provided by a cleaned dataset for a Bank, please load it here\n"
      ],
      "metadata": {
        "id": "A_m1rx1zgGBY"
      },
      "execution_count": null,
      "outputs": []
    },
    {
      "cell_type": "code",
      "source": [
        "#2 View the first 5 rows of cleaned data\n"
      ],
      "metadata": {
        "id": "JWpig9GybXl-"
      },
      "execution_count": null,
      "outputs": []
    },
    {
      "cell_type": "code",
      "source": [
        "#3 Remove unrelevant variable relate to customer (e.g: \"Martial\")\n"
      ],
      "metadata": {
        "id": "xmZadNFHVyf4"
      },
      "execution_count": null,
      "outputs": []
    },
    {
      "cell_type": "code",
      "source": [
        "#4 machine learning algorithms only take numerical values, all five categorical variables (job, education, default, housing and loan) need to be transformed into dummy variables.\n",
        "# Dummy variables were used instead of continuous integers because these categorical variables are not ordinal. They simply represent different types rather than levels, so dummy variables are ideal to distinguish the effect of different categories."
      ],
      "metadata": {
        "id": "9wSIpGGFckHs"
      },
      "execution_count": null,
      "outputs": []
    },
    {
      "cell_type": "code",
      "source": [
        "#5 The values of the first 20 columns, which contain customer statistics, are selected as features while the value of the last column, 'campaign outcome', is set as target.\n"
      ],
      "metadata": {
        "id": "F1boq2wGdjlj"
      },
      "execution_count": null,
      "outputs": []
    },
    {
      "cell_type": "code",
      "source": [
        "# Train/ test split\n",
        "from sklearn.model_selection import train_test_split\n",
        "from sklearn.model_selection import cross_val_score\n",
        "from sklearn.model_selection import KFold\n",
        "from sklearn.metrics import accuracy_score\n",
        "\n",
        "#6 set 25% of the data will be used for testing"
      ],
      "metadata": {
        "id": "HsnfsxF_dsla"
      },
      "execution_count": null,
      "outputs": []
    },
    {
      "cell_type": "code",
      "source": [
        "# Three different classification algorithms (Logistic Regression, K-Neighbors Classifier, and Decision Tree Classifier) are run on the dataset and the best-performing one will be used to build the classification model.\n",
        "from sklearn.linear_model import LogisticRegression\n",
        "from sklearn.neighbors import KNeighborsClassifier\n",
        "from sklearn.tree import DecisionTreeClassifier"
      ],
      "metadata": {
        "id": "HHyHl-j8hrVz"
      },
      "execution_count": null,
      "outputs": []
    },
    {
      "cell_type": "code",
      "source": [
        "#7 Compare the 3 classification algorithms"
      ],
      "metadata": {
        "id": "c8k8rGYWh5yJ"
      },
      "execution_count": null,
      "outputs": []
    },
    {
      "cell_type": "code",
      "source": [
        "#8 which classification algorithms is achieve the best performance?\n",
        "print(\"best classification algorithms is____\")"
      ],
      "metadata": {
        "colab": {
          "base_uri": "https://localhost:8080/"
        },
        "id": "WtYW0hXkiBH2",
        "outputId": "5173ff8a-4948-4cd0-a658-05df261f3091"
      },
      "execution_count": 12,
      "outputs": [
        {
          "output_type": "stream",
          "name": "stdout",
          "text": [
            "best classification algorithms is____\n"
          ]
        }
      ]
    },
    {
      "cell_type": "code",
      "source": [
        "# Evaluate Model\n",
        "#9 Accuracy Score\n",
        "\n",
        "\n",
        "\n",
        "#10 Confusion Matrix \n",
        "\n"
      ],
      "metadata": {
        "id": "xgEoMHC0ieIT"
      },
      "execution_count": null,
      "outputs": []
    },
    {
      "cell_type": "code",
      "source": [
        "# Classification Report\n",
        "from sklearn.metrics import classification_report\n",
        "print(classification_report(Y_test, predictions))"
      ],
      "metadata": {
        "id": "sTkX2Q_vitTV"
      },
      "execution_count": null,
      "outputs": []
    }
  ]
}